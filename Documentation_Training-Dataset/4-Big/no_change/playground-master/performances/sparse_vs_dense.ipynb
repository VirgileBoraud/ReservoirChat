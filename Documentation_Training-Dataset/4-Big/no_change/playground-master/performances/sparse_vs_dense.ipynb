{
 "cells": [
  {
   "cell_type": "markdown",
   "metadata": {},
   "source": [
    "# Sparse vs dense matrices\n",
    "\n",
    "On évalue ici les différences de performance entre des matrices sparse et des matrices denses, notamment en fonction du nombre d'units et de la sparsité dans le réservoir.\n",
    "\n",
    "On s'intéresse à l'initialisation et au run d'un réservoir."
   ]
  },
  {
   "cell_type": "code",
   "execution_count": 1,
   "metadata": {},
   "outputs": [
    {
     "data": {
      "text/plain": [
       "0"
      ]
     },
     "execution_count": 1,
     "metadata": {},
     "output_type": "execute_result"
    }
   ],
   "source": [
    "import time\n",
    "from tqdm import tqdm\n",
    "import matplotlib.pyplot as plt\n",
    "import pandas as pd\n",
    "\n",
    "import numpy as np\n",
    "import reservoirpy as rpy \n",
    "from reservoirpy.nodes import Reservoir\n",
    "from reservoirpy import mat_gen\n",
    "\n",
    "rpy.verbosity(0)"
   ]
  },
  {
   "cell_type": "code",
   "execution_count": 4,
   "metadata": {},
   "outputs": [
    {
     "name": "stdout",
     "output_type": "stream",
     "text": [
      "ReservoirPy:  0.3.11 \n",
      "NumPy: 1.26.1\n",
      "Build Dependencies:\n",
      "  blas:\n",
      "    detection method: pkgconfig\n",
      "    found: true\n",
      "    include directory: /usr/local/include\n",
      "    lib directory: /usr/local/lib\n",
      "    name: openblas64\n",
      "    openblas configuration: USE_64BITINT=1 DYNAMIC_ARCH=1 DYNAMIC_OLDER= NO_CBLAS=\n",
      "      NO_LAPACK= NO_LAPACKE= NO_AFFINITY=1 USE_OPENMP= HASWELL MAX_THREADS=2\n",
      "    pc file directory: /usr/local/lib/pkgconfig\n",
      "    version: 0.3.23.dev\n",
      "  lapack:\n",
      "    detection method: internal\n",
      "    found: true\n",
      "    include directory: unknown\n",
      "    lib directory: unknown\n",
      "    name: dep140250237405136\n",
      "    openblas configuration: unknown\n",
      "    pc file directory: unknown\n",
      "    version: 1.26.1\n",
      "Compilers:\n",
      "  c:\n",
      "    commands: cc\n",
      "    linker: ld.bfd\n",
      "    name: gcc\n",
      "    version: 10.2.1\n",
      "  c++:\n",
      "    commands: c++\n",
      "    linker: ld.bfd\n",
      "    name: gcc\n",
      "    version: 10.2.1\n",
      "  cython:\n",
      "    commands: cython\n",
      "    linker: cython\n",
      "    name: cython\n",
      "    version: 3.0.3\n",
      "Machine Information:\n",
      "  build:\n",
      "    cpu: x86_64\n",
      "    endian: little\n",
      "    family: x86_64\n",
      "    system: linux\n",
      "  host:\n",
      "    cpu: x86_64\n",
      "    endian: little\n",
      "    family: x86_64\n",
      "    system: linux\n",
      "Python Information:\n",
      "  path: /opt/python/cp311-cp311/bin/python\n",
      "  version: '3.11'\n",
      "SIMD Extensions:\n",
      "  baseline:\n",
      "  - SSE\n",
      "  - SSE2\n",
      "  - SSE3\n",
      "  found:\n",
      "  - SSSE3\n",
      "  - SSE41\n",
      "  - POPCNT\n",
      "  - SSE42\n",
      "  - AVX\n",
      "  - F16C\n",
      "  - FMA3\n",
      "  - AVX2\n",
      "  not found:\n",
      "  - AVX512F\n",
      "  - AVX512CD\n",
      "  - AVX512_KNL\n",
      "  - AVX512_KNM\n",
      "  - AVX512_SKX\n",
      "  - AVX512_CLX\n",
      "  - AVX512_CNL\n",
      "  - AVX512_ICL\n",
      "\n"
     ]
    }
   ],
   "source": [
    "# Config\n",
    "print(\n",
    "    \"ReservoirPy: \", rpy.__version__, '\\n'\n",
    "    \"NumPy:\", np.__version__,\n",
    ")\n",
    "\n",
    "np.show_config()"
   ]
  },
  {
   "cell_type": "markdown",
   "metadata": {},
   "source": [
    "## Fonctions"
   ]
  },
  {
   "cell_type": "code",
   "execution_count": 3,
   "metadata": {},
   "outputs": [],
   "source": [
    "rpy_sparsity_types = [\"csr\", \"csc\", \"dense\"]\n",
    "all_sparsity_types=  [\"csc\", \"csr\", \"bsr\", \"lil\", \"dok\", \"coo\", \"dia\"]"
   ]
  },
  {
   "cell_type": "code",
   "execution_count": 13,
   "metadata": {},
   "outputs": [],
   "source": [
    "def time_initialization(units, connectivity, sparsity_type, **kwargs):\n",
    "    t0 = time.time()\n",
    "    mat = mat_gen.normal(\n",
    "        units, units, \n",
    "        connectivity=connectivity, \n",
    "        sparsity_type=sparsity_type,\n",
    "        **kwargs\n",
    "    )\n",
    "    return time.time() - t0\n",
    "\n",
    "def time_run(units, connectivity, sparsity_type, timesteps, **kwargs):\n",
    "    W = mat_gen.normal(\n",
    "        units, units, \n",
    "        connectivity=connectivity, \n",
    "        sparsity_type=sparsity_type,\n",
    "        **kwargs\n",
    "    )\n",
    "    Win = mat_gen.normal(\n",
    "        units, 1,\n",
    "        connectivity=connectivity,\n",
    "        sparsity_type=sparsity_type,\n",
    "        **kwargs\n",
    "    )\n",
    "    X = np.random.uniform(size=(timesteps, 1))\n",
    "    reservoir = Reservoir(W=W, Win=Win)\n",
    "    reservoir.initialize(X)\n",
    "\n",
    "    t0 = time.time()\n",
    "    reservoir.run(X)\n",
    "    return time.time() - t0\n"
   ]
  },
  {
   "cell_type": "markdown",
   "metadata": {},
   "source": [
    "## En fonction du `sparsity_type`\n",
    "\n",
    "On fixe:\n",
    "- units = 1000\n",
    "- connectivity = 0.1\n",
    "- timesteps = 1000"
   ]
  },
  {
   "cell_type": "code",
   "execution_count": 8,
   "metadata": {},
   "outputs": [],
   "source": [
    "UNITS = 1000\n",
    "CONNECTIVITY = 0.1\n",
    "TIMESTEPS = 1000"
   ]
  },
  {
   "cell_type": "code",
   "execution_count": 42,
   "metadata": {},
   "outputs": [
    {
     "name": "stderr",
     "output_type": "stream",
     "text": [
      "Running Reservoir-9:   0%|          | 0/1000 [00:00<?, ?it/s]"
     ]
    },
    {
     "name": "stderr",
     "output_type": "stream",
     "text": [
      "Running Reservoir-9: 100%|██████████| 1000/1000 [00:00<00:00, 2815.39it/s]\n"
     ]
    },
    {
     "name": "stdout",
     "output_type": "stream",
     "text": [
      "csr 0    0.357597\n",
      "Name: csr, dtype: float64\n"
     ]
    },
    {
     "name": "stderr",
     "output_type": "stream",
     "text": [
      "Running Reservoir-10: 100%|██████████| 1000/1000 [00:00<00:00, 3309.87it/s]\n"
     ]
    },
    {
     "name": "stdout",
     "output_type": "stream",
     "text": [
      "csc 0    0.304897\n",
      "Name: csc, dtype: float64\n"
     ]
    },
    {
     "name": "stderr",
     "output_type": "stream",
     "text": [
      "Running Reservoir-11: 100%|██████████| 1000/1000 [00:00<00:00, 1198.61it/s]"
     ]
    },
    {
     "name": "stdout",
     "output_type": "stream",
     "text": [
      "dense 0    0.837334\n",
      "Name: dense, dtype: float64\n"
     ]
    },
    {
     "name": "stderr",
     "output_type": "stream",
     "text": [
      "\n"
     ]
    }
   ],
   "source": [
    "time_run_type = pd.DataFrame(index=[0])\n",
    "\n",
    "for i, sparse_type in enumerate(rpy_sparsity_types):\n",
    "    time_run_type[sparse_type] = time_run(\n",
    "        units=UNITS,\n",
    "        connectivity=CONNECTIVITY,\n",
    "        timesteps=TIMESTEPS,\n",
    "        sparsity_type=sparse_type,\n",
    "    )\n",
    "    print(sparse_type, time_run_type[sparse_type])\n"
   ]
  },
  {
   "cell_type": "code",
   "execution_count": 43,
   "metadata": {},
   "outputs": [
    {
     "data": {
      "text/html": [
       "<div>\n",
       "<style scoped>\n",
       "    .dataframe tbody tr th:only-of-type {\n",
       "        vertical-align: middle;\n",
       "    }\n",
       "\n",
       "    .dataframe tbody tr th {\n",
       "        vertical-align: top;\n",
       "    }\n",
       "\n",
       "    .dataframe thead th {\n",
       "        text-align: right;\n",
       "    }\n",
       "</style>\n",
       "<table border=\"1\" class=\"dataframe\">\n",
       "  <thead>\n",
       "    <tr style=\"text-align: right;\">\n",
       "      <th></th>\n",
       "      <th>csr</th>\n",
       "      <th>csc</th>\n",
       "      <th>dense</th>\n",
       "    </tr>\n",
       "  </thead>\n",
       "  <tbody>\n",
       "    <tr>\n",
       "      <th>0</th>\n",
       "      <td>0.357597</td>\n",
       "      <td>0.304897</td>\n",
       "      <td>0.837334</td>\n",
       "    </tr>\n",
       "  </tbody>\n",
       "</table>\n",
       "</div>"
      ],
      "text/plain": [
       "        csr       csc     dense\n",
       "0  0.357597  0.304897  0.837334"
      ]
     },
     "execution_count": 43,
     "metadata": {},
     "output_type": "execute_result"
    }
   ],
   "source": [
    "time_run_type"
   ]
  },
  {
   "cell_type": "markdown",
   "metadata": {},
   "source": [
    "## En fonction du nombre de neurones"
   ]
  },
  {
   "cell_type": "code",
   "execution_count": 65,
   "metadata": {},
   "outputs": [
    {
     "name": "stderr",
     "output_type": "stream",
     "text": [
      "Running Reservoir-263: 100%|██████████| 1000/1000 [00:00<00:00, 8902.38it/s]\n"
     ]
    },
    {
     "name": "stdout",
     "output_type": "stream",
     "text": [
      "csr 10 0.11421775817871094\n"
     ]
    },
    {
     "name": "stderr",
     "output_type": "stream",
     "text": [
      "Running Reservoir-264: 100%|██████████| 1000/1000 [00:00<00:00, 9213.11it/s]\n"
     ]
    },
    {
     "name": "stdout",
     "output_type": "stream",
     "text": [
      "csc 10 0.11065030097961426\n"
     ]
    },
    {
     "name": "stderr",
     "output_type": "stream",
     "text": [
      "Running Reservoir-265: 100%|██████████| 1000/1000 [00:00<00:00, 9085.31it/s]\n"
     ]
    },
    {
     "name": "stdout",
     "output_type": "stream",
     "text": [
      "dense 10 0.11190104484558105\n"
     ]
    },
    {
     "name": "stderr",
     "output_type": "stream",
     "text": [
      "Running Reservoir-266: 100%|██████████| 1000/1000 [00:00<00:00, 9128.37it/s]\n"
     ]
    },
    {
     "name": "stdout",
     "output_type": "stream",
     "text": [
      "csr 14 0.11130428314208984\n"
     ]
    },
    {
     "name": "stderr",
     "output_type": "stream",
     "text": [
      "Running Reservoir-267: 100%|██████████| 1000/1000 [00:00<00:00, 8640.10it/s]\n"
     ]
    },
    {
     "name": "stdout",
     "output_type": "stream",
     "text": [
      "csc 14 0.11796450614929199\n"
     ]
    },
    {
     "name": "stderr",
     "output_type": "stream",
     "text": [
      "Running Reservoir-268: 100%|██████████| 1000/1000 [00:00<00:00, 10021.90it/s]\n"
     ]
    },
    {
     "name": "stdout",
     "output_type": "stream",
     "text": [
      "dense 14 0.10178112983703613\n"
     ]
    },
    {
     "name": "stderr",
     "output_type": "stream",
     "text": [
      "Running Reservoir-269: 100%|██████████| 1000/1000 [00:00<00:00, 8868.31it/s]\n"
     ]
    },
    {
     "name": "stdout",
     "output_type": "stream",
     "text": [
      "csr 20 0.11511778831481934\n"
     ]
    },
    {
     "name": "stderr",
     "output_type": "stream",
     "text": [
      "Running Reservoir-270: 100%|██████████| 1000/1000 [00:00<00:00, 9342.70it/s]\n"
     ]
    },
    {
     "name": "stdout",
     "output_type": "stream",
     "text": [
      "csc 20 0.10891008377075195\n"
     ]
    },
    {
     "name": "stderr",
     "output_type": "stream",
     "text": [
      "Running Reservoir-271: 100%|██████████| 1000/1000 [00:00<00:00, 8525.41it/s]\n"
     ]
    },
    {
     "name": "stdout",
     "output_type": "stream",
     "text": [
      "dense 20 0.1190793514251709\n"
     ]
    },
    {
     "name": "stderr",
     "output_type": "stream",
     "text": [
      "Running Reservoir-272: 100%|██████████| 1000/1000 [00:00<00:00, 9125.09it/s]\n"
     ]
    },
    {
     "name": "stdout",
     "output_type": "stream",
     "text": [
      "csr 29 0.11177802085876465\n"
     ]
    },
    {
     "name": "stderr",
     "output_type": "stream",
     "text": [
      "Running Reservoir-273: 100%|██████████| 1000/1000 [00:00<00:00, 8971.85it/s]\n"
     ]
    },
    {
     "name": "stdout",
     "output_type": "stream",
     "text": [
      "csc 29 0.11354708671569824\n"
     ]
    },
    {
     "name": "stderr",
     "output_type": "stream",
     "text": [
      "Running Reservoir-274: 100%|██████████| 1000/1000 [00:00<00:00, 9794.74it/s]\n"
     ]
    },
    {
     "name": "stdout",
     "output_type": "stream",
     "text": [
      "dense 29 0.10383772850036621\n"
     ]
    },
    {
     "name": "stderr",
     "output_type": "stream",
     "text": [
      "Running Reservoir-275: 100%|██████████| 1000/1000 [00:00<00:00, 8865.84it/s]\n"
     ]
    },
    {
     "name": "stdout",
     "output_type": "stream",
     "text": [
      "csr 42 0.11460161209106445\n"
     ]
    },
    {
     "name": "stderr",
     "output_type": "stream",
     "text": [
      "Running Reservoir-276: 100%|██████████| 1000/1000 [00:00<00:00, 9088.65it/s]\n"
     ]
    },
    {
     "name": "stdout",
     "output_type": "stream",
     "text": [
      "csc 42 0.11199212074279785\n"
     ]
    },
    {
     "name": "stderr",
     "output_type": "stream",
     "text": [
      "Running Reservoir-277: 100%|██████████| 1000/1000 [00:00<00:00, 9204.82it/s]\n"
     ]
    },
    {
     "name": "stdout",
     "output_type": "stream",
     "text": [
      "dense 42 0.11063671112060547\n"
     ]
    },
    {
     "name": "stderr",
     "output_type": "stream",
     "text": [
      "Running Reservoir-278: 100%|██████████| 1000/1000 [00:00<00:00, 7747.96it/s]\n"
     ]
    },
    {
     "name": "stdout",
     "output_type": "stream",
     "text": [
      "csr 61 0.13088226318359375\n"
     ]
    },
    {
     "name": "stderr",
     "output_type": "stream",
     "text": [
      "Running Reservoir-279: 100%|██████████| 1000/1000 [00:00<00:00, 8834.61it/s]\n"
     ]
    },
    {
     "name": "stdout",
     "output_type": "stream",
     "text": [
      "csc 61 0.11500215530395508\n"
     ]
    },
    {
     "name": "stderr",
     "output_type": "stream",
     "text": [
      "Running Reservoir-280: 100%|██████████| 1000/1000 [00:00<00:00, 9759.12it/s]\n"
     ]
    },
    {
     "name": "stdout",
     "output_type": "stream",
     "text": [
      "dense 61 0.10451960563659668\n"
     ]
    },
    {
     "name": "stderr",
     "output_type": "stream",
     "text": [
      "Running Reservoir-281: 100%|██████████| 1000/1000 [00:00<00:00, 8810.60it/s]\n"
     ]
    },
    {
     "name": "stdout",
     "output_type": "stream",
     "text": [
      "csr 88 0.11540031433105469\n"
     ]
    },
    {
     "name": "stderr",
     "output_type": "stream",
     "text": [
      "Running Reservoir-282: 100%|██████████| 1000/1000 [00:00<00:00, 8753.40it/s]\n"
     ]
    },
    {
     "name": "stdout",
     "output_type": "stream",
     "text": [
      "csc 88 0.11602497100830078\n"
     ]
    },
    {
     "name": "stderr",
     "output_type": "stream",
     "text": [
      "Running Reservoir-283: 100%|██████████| 1000/1000 [00:00<00:00, 9168.50it/s]\n"
     ]
    },
    {
     "name": "stdout",
     "output_type": "stream",
     "text": [
      "dense 88 0.1110222339630127\n"
     ]
    },
    {
     "name": "stderr",
     "output_type": "stream",
     "text": [
      "Running Reservoir-284: 100%|██████████| 1000/1000 [00:00<00:00, 8560.99it/s]\n"
     ]
    },
    {
     "name": "stdout",
     "output_type": "stream",
     "text": [
      "csr 127 0.11882972717285156\n"
     ]
    },
    {
     "name": "stderr",
     "output_type": "stream",
     "text": [
      "Running Reservoir-285: 100%|██████████| 1000/1000 [00:00<00:00, 7071.80it/s]\n"
     ]
    },
    {
     "name": "stdout",
     "output_type": "stream",
     "text": [
      "csc 127 0.14373135566711426\n"
     ]
    },
    {
     "name": "stderr",
     "output_type": "stream",
     "text": [
      "Running Reservoir-286: 100%|██████████| 1000/1000 [00:00<00:00, 5074.35it/s]\n"
     ]
    },
    {
     "name": "stdout",
     "output_type": "stream",
     "text": [
      "dense 127 0.19956469535827637\n"
     ]
    },
    {
     "name": "stderr",
     "output_type": "stream",
     "text": [
      "Running Reservoir-287: 100%|██████████| 1000/1000 [00:00<00:00, 5887.44it/s]\n"
     ]
    },
    {
     "name": "stdout",
     "output_type": "stream",
     "text": [
      "csr 183 0.1723477840423584\n"
     ]
    },
    {
     "name": "stderr",
     "output_type": "stream",
     "text": [
      "Running Reservoir-288: 100%|██████████| 1000/1000 [00:00<00:00, 6673.03it/s]\n"
     ]
    },
    {
     "name": "stdout",
     "output_type": "stream",
     "text": [
      "csc 183 0.15186023712158203\n"
     ]
    },
    {
     "name": "stderr",
     "output_type": "stream",
     "text": [
      "Running Reservoir-289: 100%|██████████| 1000/1000 [00:00<00:00, 4132.86it/s]\n"
     ]
    },
    {
     "name": "stdout",
     "output_type": "stream",
     "text": [
      "dense 183 0.2448101043701172\n"
     ]
    },
    {
     "name": "stderr",
     "output_type": "stream",
     "text": [
      "Running Reservoir-290: 100%|██████████| 1000/1000 [00:00<00:00, 5660.31it/s]\n"
     ]
    },
    {
     "name": "stdout",
     "output_type": "stream",
     "text": [
      "csr 263 0.18304920196533203\n"
     ]
    },
    {
     "name": "stderr",
     "output_type": "stream",
     "text": [
      "Running Reservoir-291: 100%|██████████| 1000/1000 [00:00<00:00, 7183.72it/s]\n"
     ]
    },
    {
     "name": "stdout",
     "output_type": "stream",
     "text": [
      "csc 263 0.14156103134155273\n"
     ]
    },
    {
     "name": "stderr",
     "output_type": "stream",
     "text": [
      "Running Reservoir-292: 100%|██████████| 1000/1000 [00:00<00:00, 3140.45it/s]\n"
     ]
    },
    {
     "name": "stdout",
     "output_type": "stream",
     "text": [
      "dense 263 0.3213517665863037\n"
     ]
    },
    {
     "name": "stderr",
     "output_type": "stream",
     "text": [
      "Running Reservoir-293: 100%|██████████| 1000/1000 [00:00<00:00, 5386.06it/s]\n"
     ]
    },
    {
     "name": "stdout",
     "output_type": "stream",
     "text": [
      "csr 379 0.18872952461242676\n"
     ]
    },
    {
     "name": "stderr",
     "output_type": "stream",
     "text": [
      "Running Reservoir-294: 100%|██████████| 1000/1000 [00:00<00:00, 6432.41it/s]\n"
     ]
    },
    {
     "name": "stdout",
     "output_type": "stream",
     "text": [
      "csc 379 0.15724658966064453\n"
     ]
    },
    {
     "name": "stderr",
     "output_type": "stream",
     "text": [
      "Running Reservoir-295: 100%|██████████| 1000/1000 [00:00<00:00, 2989.14it/s]\n"
     ]
    },
    {
     "name": "stdout",
     "output_type": "stream",
     "text": [
      "dense 379 0.33783984184265137\n"
     ]
    },
    {
     "name": "stderr",
     "output_type": "stream",
     "text": [
      "Running Reservoir-296: 100%|██████████| 1000/1000 [00:00<00:00, 4439.87it/s]\n"
     ]
    },
    {
     "name": "stdout",
     "output_type": "stream",
     "text": [
      "csr 545 0.22851204872131348\n"
     ]
    },
    {
     "name": "stderr",
     "output_type": "stream",
     "text": [
      "Running Reservoir-297: 100%|██████████| 1000/1000 [00:00<00:00, 5131.46it/s]\n"
     ]
    },
    {
     "name": "stdout",
     "output_type": "stream",
     "text": [
      "csc 545 0.19744157791137695\n"
     ]
    },
    {
     "name": "stderr",
     "output_type": "stream",
     "text": [
      "Running Reservoir-298: 100%|██████████| 1000/1000 [00:00<00:00, 2381.27it/s]\n"
     ]
    },
    {
     "name": "stdout",
     "output_type": "stream",
     "text": [
      "dense 545 0.42239952087402344\n"
     ]
    },
    {
     "name": "stderr",
     "output_type": "stream",
     "text": [
      "Running Reservoir-299: 100%|██████████| 1000/1000 [00:00<00:00, 3507.68it/s]\n"
     ]
    },
    {
     "name": "stdout",
     "output_type": "stream",
     "text": [
      "csr 784 0.2884540557861328\n"
     ]
    },
    {
     "name": "stderr",
     "output_type": "stream",
     "text": [
      "Running Reservoir-300: 100%|██████████| 1000/1000 [00:00<00:00, 4035.65it/s]\n"
     ]
    },
    {
     "name": "stdout",
     "output_type": "stream",
     "text": [
      "csc 784 0.25069093704223633\n"
     ]
    },
    {
     "name": "stderr",
     "output_type": "stream",
     "text": [
      "Running Reservoir-301: 100%|██████████| 1000/1000 [00:00<00:00, 2522.71it/s]\n"
     ]
    },
    {
     "name": "stdout",
     "output_type": "stream",
     "text": [
      "dense 784 0.3990795612335205\n"
     ]
    },
    {
     "name": "stderr",
     "output_type": "stream",
     "text": [
      "Running Reservoir-302: 100%|██████████| 1000/1000 [00:00<00:00, 2384.31it/s]\n"
     ]
    },
    {
     "name": "stdout",
     "output_type": "stream",
     "text": [
      "csr 1128 0.4224221706390381\n"
     ]
    },
    {
     "name": "stderr",
     "output_type": "stream",
     "text": [
      "Running Reservoir-303: 100%|██████████| 1000/1000 [00:00<00:00, 2750.63it/s]\n"
     ]
    },
    {
     "name": "stdout",
     "output_type": "stream",
     "text": [
      "csc 1128 0.3661153316497803\n"
     ]
    },
    {
     "name": "stderr",
     "output_type": "stream",
     "text": [
      "Running Reservoir-304: 100%|██████████| 1000/1000 [00:00<00:00, 1598.13it/s]\n"
     ]
    },
    {
     "name": "stdout",
     "output_type": "stream",
     "text": [
      "dense 1128 0.6308128833770752\n"
     ]
    },
    {
     "name": "stderr",
     "output_type": "stream",
     "text": [
      "Running Reservoir-305: 100%|██████████| 1000/1000 [00:00<00:00, 1463.17it/s]\n"
     ]
    },
    {
     "name": "stdout",
     "output_type": "stream",
     "text": [
      "csr 1623 0.687401294708252\n"
     ]
    },
    {
     "name": "stderr",
     "output_type": "stream",
     "text": [
      "Running Reservoir-306: 100%|██████████| 1000/1000 [00:00<00:00, 1930.27it/s]\n"
     ]
    },
    {
     "name": "stdout",
     "output_type": "stream",
     "text": [
      "csc 1623 0.5206394195556641\n"
     ]
    },
    {
     "name": "stderr",
     "output_type": "stream",
     "text": [
      "Running Reservoir-307: 100%|██████████| 1000/1000 [00:01<00:00, 703.31it/s]\n"
     ]
    },
    {
     "name": "stdout",
     "output_type": "stream",
     "text": [
      "dense 1623 1.4253184795379639\n"
     ]
    },
    {
     "name": "stderr",
     "output_type": "stream",
     "text": [
      "Running Reservoir-308: 100%|██████████| 1000/1000 [00:01<00:00, 802.37it/s]\n"
     ]
    },
    {
     "name": "stdout",
     "output_type": "stream",
     "text": [
      "csr 2335 1.2490427494049072\n"
     ]
    },
    {
     "name": "stderr",
     "output_type": "stream",
     "text": [
      "Running Reservoir-309: 100%|██████████| 1000/1000 [00:00<00:00, 1006.12it/s]\n"
     ]
    },
    {
     "name": "stdout",
     "output_type": "stream",
     "text": [
      "csc 2335 0.996915340423584\n"
     ]
    },
    {
     "name": "stderr",
     "output_type": "stream",
     "text": [
      "Running Reservoir-310: 100%|██████████| 1000/1000 [00:03<00:00, 300.37it/s]\n"
     ]
    },
    {
     "name": "stdout",
     "output_type": "stream",
     "text": [
      "dense 2335 3.333381414413452\n"
     ]
    },
    {
     "name": "stderr",
     "output_type": "stream",
     "text": [
      "Running Reservoir-311: 100%|██████████| 1000/1000 [00:02<00:00, 411.19it/s]\n"
     ]
    },
    {
     "name": "stdout",
     "output_type": "stream",
     "text": [
      "csr 3359 2.4342119693756104\n"
     ]
    },
    {
     "name": "stderr",
     "output_type": "stream",
     "text": [
      "Running Reservoir-312: 100%|██████████| 1000/1000 [00:01<00:00, 533.45it/s]\n"
     ]
    },
    {
     "name": "stdout",
     "output_type": "stream",
     "text": [
      "csc 3359 1.8765161037445068\n"
     ]
    },
    {
     "name": "stderr",
     "output_type": "stream",
     "text": [
      "Running Reservoir-313: 100%|██████████| 1000/1000 [00:04<00:00, 219.24it/s]\n"
     ]
    },
    {
     "name": "stdout",
     "output_type": "stream",
     "text": [
      "dense 3359 4.56498646736145\n"
     ]
    },
    {
     "name": "stderr",
     "output_type": "stream",
     "text": [
      "Running Reservoir-314: 100%|██████████| 1000/1000 [00:04<00:00, 206.84it/s]\n"
     ]
    },
    {
     "name": "stdout",
     "output_type": "stream",
     "text": [
      "csr 4832 4.836501598358154\n"
     ]
    },
    {
     "name": "stderr",
     "output_type": "stream",
     "text": [
      "Running Reservoir-315: 100%|██████████| 1000/1000 [00:04<00:00, 247.57it/s]\n"
     ]
    },
    {
     "name": "stdout",
     "output_type": "stream",
     "text": [
      "csc 4832 4.041467189788818\n"
     ]
    },
    {
     "name": "stderr",
     "output_type": "stream",
     "text": [
      "Running Reservoir-316: 100%|██████████| 1000/1000 [00:08<00:00, 113.80it/s]\n"
     ]
    },
    {
     "name": "stdout",
     "output_type": "stream",
     "text": [
      "dense 4832 8.792779207229614\n"
     ]
    },
    {
     "name": "stderr",
     "output_type": "stream",
     "text": [
      "Running Reservoir-317: 100%|██████████| 1000/1000 [00:09<00:00, 101.86it/s]\n"
     ]
    },
    {
     "name": "stdout",
     "output_type": "stream",
     "text": [
      "csr 6951 9.820070505142212\n"
     ]
    },
    {
     "name": "stderr",
     "output_type": "stream",
     "text": [
      "Running Reservoir-318: 100%|██████████| 1000/1000 [00:08<00:00, 112.29it/s]\n"
     ]
    },
    {
     "name": "stdout",
     "output_type": "stream",
     "text": [
      "csc 6951 8.907611608505249\n"
     ]
    },
    {
     "name": "stderr",
     "output_type": "stream",
     "text": [
      "Running Reservoir-319: 100%|██████████| 1000/1000 [00:18<00:00, 54.60it/s]\n"
     ]
    },
    {
     "name": "stdout",
     "output_type": "stream",
     "text": [
      "dense 6951 18.32101058959961\n"
     ]
    },
    {
     "name": "stderr",
     "output_type": "stream",
     "text": [
      "Running Reservoir-320: 100%|██████████| 1000/1000 [00:19<00:00, 51.77it/s]\n"
     ]
    },
    {
     "name": "stdout",
     "output_type": "stream",
     "text": [
      "csr 10000 19.318288326263428\n"
     ]
    },
    {
     "name": "stderr",
     "output_type": "stream",
     "text": [
      "Running Reservoir-321: 100%|██████████| 1000/1000 [00:17<00:00, 56.44it/s]\n"
     ]
    },
    {
     "name": "stdout",
     "output_type": "stream",
     "text": [
      "csc 10000 17.720418453216553\n"
     ]
    },
    {
     "name": "stderr",
     "output_type": "stream",
     "text": [
      "Running Reservoir-322: 100%|██████████| 1000/1000 [00:33<00:00, 29.58it/s]\n"
     ]
    },
    {
     "name": "stdout",
     "output_type": "stream",
     "text": [
      "dense 10000 33.81033277511597\n"
     ]
    }
   ],
   "source": [
    "TRIALS = 20\n",
    "Ns = np.logspace(1, 4, TRIALS).astype(int)\n",
    "\n",
    "time_run_units = np.zeros((TRIALS, len(rpy_sparsity_types)))\n",
    "\n",
    "for i, N in enumerate(Ns):\n",
    "    for j, sparse_type in enumerate(rpy_sparsity_types):\n",
    "        time_run_units[i, j] = time_run(\n",
    "            units=N,\n",
    "            connectivity=CONNECTIVITY,\n",
    "            timesteps=TIMESTEPS,\n",
    "            sparsity_type=sparse_type,\n",
    "        )\n",
    "        print(sparse_type, N, time_run_units[i,j])"
   ]
  },
  {
   "cell_type": "code",
   "execution_count": 243,
   "metadata": {},
   "outputs": [
    {
     "data": {
      "image/png": "[encoded data removed]",
      "text/plain": [
       "<Figure size 480x360 with 1 Axes>"
      ]
     },
     "metadata": {},
     "output_type": "display_data"
    }
   ],
   "source": [
    "Ns = np.logspace(1, 4, 20).astype(int)\n",
    "\n",
    "plt.figure()\n",
    "\n",
    "for i, s_type in enumerate(rpy_sparsity_types):\n",
    "    plt.plot(Ns, time_run_units[:, i], label=s_type)\n",
    "\n",
    "plt.legend()\n",
    "plt.grid()\n",
    "plt.xscale(\"log\")\n",
    "plt.yscale(\"log\")\n",
    "plt.xlabel(\"N (log)\")\n",
    "plt.ylabel(\"temps (s) (log)\")\n",
    "plt.show()"
   ]
  },
  {
   "cell_type": "markdown",
   "metadata": {},
   "source": [
    "## En fonction de la connectivité"
   ]
  },
  {
   "cell_type": "code",
   "execution_count": 76,
   "metadata": {},
   "outputs": [
    {
     "name": "stderr",
     "output_type": "stream",
     "text": [
      "Running Reservoir-409: 100%|██████████| 100/100 [00:00<00:00, 1926.26it/s]\n"
     ]
    },
    {
     "name": "stdout",
     "output_type": "stream",
     "text": [
      "csc 0.0 0.0539395809173584\n"
     ]
    },
    {
     "name": "stderr",
     "output_type": "stream",
     "text": [
      "Running Reservoir-410: 100%|██████████| 100/100 [00:00<00:00, 1946.69it/s]\n"
     ]
    },
    {
     "name": "stdout",
     "output_type": "stream",
     "text": [
      "csr 0.0 0.05412912368774414\n"
     ]
    },
    {
     "name": "stderr",
     "output_type": "stream",
     "text": [
      "Running Reservoir-411: 100%|██████████| 100/100 [00:00<00:00, 376.81it/s]\n"
     ]
    },
    {
     "name": "stdout",
     "output_type": "stream",
     "text": [
      "csc 0.05263157894736842 0.26739501953125\n"
     ]
    },
    {
     "name": "stderr",
     "output_type": "stream",
     "text": [
      "Running Reservoir-412: 100%|██████████| 100/100 [00:00<00:00, 348.62it/s]\n"
     ]
    },
    {
     "name": "stdout",
     "output_type": "stream",
     "text": [
      "csr 0.05263157894736842 0.2890000343322754\n"
     ]
    },
    {
     "name": "stderr",
     "output_type": "stream",
     "text": [
      "Running Reservoir-413: 100%|██████████| 100/100 [00:00<00:00, 219.07it/s]\n"
     ]
    },
    {
     "name": "stdout",
     "output_type": "stream",
     "text": [
      "csc 0.10526315789473684 0.45842957496643066\n"
     ]
    },
    {
     "name": "stderr",
     "output_type": "stream",
     "text": [
      "Running Reservoir-414: 100%|██████████| 100/100 [00:00<00:00, 183.61it/s]\n"
     ]
    },
    {
     "name": "stdout",
     "output_type": "stream",
     "text": [
      "csr 0.10526315789473684 0.5463957786560059\n"
     ]
    },
    {
     "name": "stderr",
     "output_type": "stream",
     "text": [
      "Running Reservoir-415: 100%|██████████| 100/100 [00:00<00:00, 142.98it/s]\n"
     ]
    },
    {
     "name": "stdout",
     "output_type": "stream",
     "text": [
      "csc 0.15789473684210525 0.7017719745635986\n"
     ]
    },
    {
     "name": "stderr",
     "output_type": "stream",
     "text": [
      "Running Reservoir-416: 100%|██████████| 100/100 [00:00<00:00, 125.01it/s]\n"
     ]
    },
    {
     "name": "stdout",
     "output_type": "stream",
     "text": [
      "csr 0.15789473684210525 0.8019893169403076\n"
     ]
    },
    {
     "name": "stderr",
     "output_type": "stream",
     "text": [
      "Running Reservoir-417: 100%|██████████| 100/100 [00:00<00:00, 107.95it/s]\n"
     ]
    },
    {
     "name": "stdout",
     "output_type": "stream",
     "text": [
      "csc 0.21052631578947367 0.9282784461975098\n"
     ]
    },
    {
     "name": "stderr",
     "output_type": "stream",
     "text": [
      "Running Reservoir-418: 100%|██████████| 100/100 [00:01<00:00, 95.52it/s]\n"
     ]
    },
    {
     "name": "stdout",
     "output_type": "stream",
     "text": [
      "csr 0.21052631578947367 1.049013376235962\n"
     ]
    },
    {
     "name": "stderr",
     "output_type": "stream",
     "text": [
      "Running Reservoir-419: 100%|██████████| 100/100 [00:01<00:00, 92.00it/s]\n"
     ]
    },
    {
     "name": "stdout",
     "output_type": "stream",
     "text": [
      "csc 0.2631578947368421 1.0889220237731934\n"
     ]
    },
    {
     "name": "stderr",
     "output_type": "stream",
     "text": [
      "Running Reservoir-420: 100%|██████████| 100/100 [00:01<00:00, 76.86it/s]\n"
     ]
    },
    {
     "name": "stdout",
     "output_type": "stream",
     "text": [
      "csr 0.2631578947368421 1.3030612468719482\n"
     ]
    },
    {
     "name": "stderr",
     "output_type": "stream",
     "text": [
      "Running Reservoir-421: 100%|██████████| 100/100 [00:01<00:00, 78.35it/s]\n"
     ]
    },
    {
     "name": "stdout",
     "output_type": "stream",
     "text": [
      "csc 0.3157894736842105 1.2782015800476074\n"
     ]
    },
    {
     "name": "stderr",
     "output_type": "stream",
     "text": [
      "Running Reservoir-422: 100%|██████████| 100/100 [00:01<00:00, 64.89it/s]\n"
     ]
    },
    {
     "name": "stdout",
     "output_type": "stream",
     "text": [
      "csr 0.3157894736842105 1.543065071105957\n"
     ]
    },
    {
     "name": "stderr",
     "output_type": "stream",
     "text": [
      "Running Reservoir-423: 100%|██████████| 100/100 [00:01<00:00, 68.95it/s]\n"
     ]
    },
    {
     "name": "stdout",
     "output_type": "stream",
     "text": [
      "csc 0.3684210526315789 1.4520666599273682\n"
     ]
    },
    {
     "name": "stderr",
     "output_type": "stream",
     "text": [
      "Running Reservoir-424: 100%|██████████| 100/100 [00:01<00:00, 56.16it/s]\n"
     ]
    },
    {
     "name": "stdout",
     "output_type": "stream",
     "text": [
      "csr 0.3684210526315789 1.7824101448059082\n"
     ]
    },
    {
     "name": "stderr",
     "output_type": "stream",
     "text": [
      "Running Reservoir-425: 100%|██████████| 100/100 [00:01<00:00, 62.35it/s]\n"
     ]
    },
    {
     "name": "stdout",
     "output_type": "stream",
     "text": [
      "csc 0.42105263157894735 1.6057262420654297\n"
     ]
    },
    {
     "name": "stderr",
     "output_type": "stream",
     "text": [
      "Running Reservoir-426: 100%|██████████| 100/100 [00:02<00:00, 49.07it/s]\n"
     ]
    },
    {
     "name": "stdout",
     "output_type": "stream",
     "text": [
      "csr 0.42105263157894735 2.039982795715332\n"
     ]
    },
    {
     "name": "stderr",
     "output_type": "stream",
     "text": [
      "Running Reservoir-427: 100%|██████████| 100/100 [00:01<00:00, 55.86it/s]\n"
     ]
    },
    {
     "name": "stdout",
     "output_type": "stream",
     "text": [
      "csc 0.47368421052631576 1.7931416034698486\n"
     ]
    },
    {
     "name": "stderr",
     "output_type": "stream",
     "text": [
      "Running Reservoir-428: 100%|██████████| 100/100 [00:02<00:00, 44.71it/s]\n"
     ]
    },
    {
     "name": "stdout",
     "output_type": "stream",
     "text": [
      "csr 0.47368421052631576 2.2385659217834473\n"
     ]
    },
    {
     "name": "stderr",
     "output_type": "stream",
     "text": [
      "Running Reservoir-429: 100%|██████████| 100/100 [00:01<00:00, 51.58it/s]\n"
     ]
    },
    {
     "name": "stdout",
     "output_type": "stream",
     "text": [
      "csc 0.5263157894736842 1.9405851364135742\n"
     ]
    },
    {
     "name": "stderr",
     "output_type": "stream",
     "text": [
      "Running Reservoir-430: 100%|██████████| 100/100 [00:02<00:00, 40.40it/s]\n"
     ]
    },
    {
     "name": "stdout",
     "output_type": "stream",
     "text": [
      "csr 0.5263157894736842 2.4772613048553467\n"
     ]
    },
    {
     "name": "stderr",
     "output_type": "stream",
     "text": [
      "Running Reservoir-431: 100%|██████████| 100/100 [00:02<00:00, 45.87it/s]\n"
     ]
    },
    {
     "name": "stdout",
     "output_type": "stream",
     "text": [
      "csc 0.5789473684210527 2.1821258068084717\n"
     ]
    },
    {
     "name": "stderr",
     "output_type": "stream",
     "text": [
      "Running Reservoir-432: 100%|██████████| 100/100 [00:02<00:00, 36.95it/s]\n"
     ]
    },
    {
     "name": "stdout",
     "output_type": "stream",
     "text": [
      "csr 0.5789473684210527 2.708059310913086\n"
     ]
    },
    {
     "name": "stderr",
     "output_type": "stream",
     "text": [
      "Running Reservoir-433: 100%|██████████| 100/100 [00:02<00:00, 46.03it/s]\n"
     ]
    },
    {
     "name": "stdout",
     "output_type": "stream",
     "text": [
      "csc 0.631578947368421 2.17441463470459\n"
     ]
    },
    {
     "name": "stderr",
     "output_type": "stream",
     "text": [
      "Running Reservoir-434: 100%|██████████| 100/100 [00:02<00:00, 33.95it/s]\n"
     ]
    },
    {
     "name": "stdout",
     "output_type": "stream",
     "text": [
      "csr 0.631578947368421 2.9472320079803467\n"
     ]
    },
    {
     "name": "stderr",
     "output_type": "stream",
     "text": [
      "Running Reservoir-435: 100%|██████████| 100/100 [00:02<00:00, 42.71it/s]\n"
     ]
    },
    {
     "name": "stdout",
     "output_type": "stream",
     "text": [
      "csc 0.6842105263157894 2.343146324157715\n"
     ]
    },
    {
     "name": "stderr",
     "output_type": "stream",
     "text": [
      "Running Reservoir-436: 100%|██████████| 100/100 [00:03<00:00, 31.38it/s]\n"
     ]
    },
    {
     "name": "stdout",
     "output_type": "stream",
     "text": [
      "csr 0.6842105263157894 3.1884708404541016\n"
     ]
    },
    {
     "name": "stderr",
     "output_type": "stream",
     "text": [
      "Running Reservoir-437: 100%|██████████| 100/100 [00:02<00:00, 40.38it/s]\n"
     ]
    },
    {
     "name": "stdout",
     "output_type": "stream",
     "text": [
      "csc 0.7368421052631579 2.478257656097412\n"
     ]
    },
    {
     "name": "stderr",
     "output_type": "stream",
     "text": [
      "Running Reservoir-438: 100%|██████████| 100/100 [00:03<00:00, 29.11it/s]\n"
     ]
    },
    {
     "name": "stdout",
     "output_type": "stream",
     "text": [
      "csr 0.7368421052631579 3.437523126602173\n"
     ]
    },
    {
     "name": "stderr",
     "output_type": "stream",
     "text": [
      "Running Reservoir-439: 100%|██████████| 100/100 [00:02<00:00, 37.88it/s]\n"
     ]
    },
    {
     "name": "stdout",
     "output_type": "stream",
     "text": [
      "csc 0.7894736842105263 2.642082452774048\n"
     ]
    },
    {
     "name": "stderr",
     "output_type": "stream",
     "text": [
      "Running Reservoir-440: 100%|██████████| 100/100 [00:03<00:00, 27.15it/s]\n"
     ]
    },
    {
     "name": "stdout",
     "output_type": "stream",
     "text": [
      "csr 0.7894736842105263 3.685088634490967\n"
     ]
    },
    {
     "name": "stderr",
     "output_type": "stream",
     "text": [
      "Running Reservoir-441: 100%|██████████| 100/100 [00:02<00:00, 36.34it/s]\n"
     ]
    },
    {
     "name": "stdout",
     "output_type": "stream",
     "text": [
      "csc 0.8421052631578947 2.754024028778076\n"
     ]
    },
    {
     "name": "stderr",
     "output_type": "stream",
     "text": [
      "Running Reservoir-442: 100%|██████████| 100/100 [00:03<00:00, 25.53it/s]\n"
     ]
    },
    {
     "name": "stdout",
     "output_type": "stream",
     "text": [
      "csr 0.8421052631578947 3.9187705516815186\n"
     ]
    },
    {
     "name": "stderr",
     "output_type": "stream",
     "text": [
      "Running Reservoir-443: 100%|██████████| 100/100 [00:02<00:00, 34.61it/s]\n"
     ]
    },
    {
     "name": "stdout",
     "output_type": "stream",
     "text": [
      "csc 0.894736842105263 2.8910627365112305\n"
     ]
    },
    {
     "name": "stderr",
     "output_type": "stream",
     "text": [
      "Running Reservoir-444: 100%|██████████| 100/100 [00:04<00:00, 24.04it/s]\n"
     ]
    },
    {
     "name": "stdout",
     "output_type": "stream",
     "text": [
      "csr 0.894736842105263 4.161093473434448\n"
     ]
    },
    {
     "name": "stderr",
     "output_type": "stream",
     "text": [
      "Running Reservoir-445: 100%|██████████| 100/100 [00:03<00:00, 32.54it/s]\n"
     ]
    },
    {
     "name": "stdout",
     "output_type": "stream",
     "text": [
      "csc 0.9473684210526315 3.0748188495635986\n"
     ]
    },
    {
     "name": "stderr",
     "output_type": "stream",
     "text": [
      "Running Reservoir-446: 100%|██████████| 100/100 [00:04<00:00, 22.63it/s]\n"
     ]
    },
    {
     "name": "stdout",
     "output_type": "stream",
     "text": [
      "csr 0.9473684210526315 4.420909643173218\n"
     ]
    },
    {
     "name": "stderr",
     "output_type": "stream",
     "text": [
      "Running Reservoir-447: 100%|██████████| 100/100 [00:01<00:00, 94.56it/s]\n"
     ]
    },
    {
     "name": "stdout",
     "output_type": "stream",
     "text": [
      "csc 1.0 1.0597989559173584\n"
     ]
    },
    {
     "name": "stderr",
     "output_type": "stream",
     "text": [
      "Running Reservoir-448: 100%|██████████| 100/100 [00:00<00:00, 105.43it/s]"
     ]
    },
    {
     "name": "stdout",
     "output_type": "stream",
     "text": [
      "csr 1.0 0.951653242111206\n"
     ]
    },
    {
     "name": "stderr",
     "output_type": "stream",
     "text": [
      "\n"
     ]
    }
   ],
   "source": [
    "TRIALS = 20\n",
    "UNITS = 5_000\n",
    "TIMESTEPS = 100\n",
    "Cs = np.linspace(0, 1, TRIALS)\n",
    "\n",
    "time_run_connectivity = np.zeros((TRIALS, 2))\n",
    "\n",
    "for i, C in enumerate(Cs):\n",
    "    for j, sparse_type in enumerate([\"csc\", \"csr\"]):\n",
    "        time_run_connectivity[i, j] = time_run(\n",
    "            units=UNITS,\n",
    "            connectivity=C,\n",
    "            timesteps=TIMESTEPS,\n",
    "            sparsity_type=sparse_type,\n",
    "        )\n",
    "        print(sparse_type, C, time_run_connectivity[i,j])"
   ]
  },
  {
   "cell_type": "code",
   "execution_count": 78,
   "metadata": {},
   "outputs": [
    {
     "name": "stderr",
     "output_type": "stream",
     "text": [
      "Running Reservoir-449: 100%|██████████| 100/100 [00:01<00:00, 98.97it/s]\n"
     ]
    }
   ],
   "source": [
    "time_dense = time_run(\n",
    "    units=UNITS,\n",
    "    connectivity=1.,\n",
    "    timesteps=TIMESTEPS,\n",
    "    sparsity_type=\"dense\",\n",
    ")"
   ]
  },
  {
   "cell_type": "code",
   "execution_count": 255,
   "metadata": {},
   "outputs": [
    {
     "data": {
      "image/png": "[encoded data removed]",
      "text/plain": [
       "<Figure size 480x360 with 1 Axes>"
      ]
     },
     "metadata": {},
     "output_type": "display_data"
    }
   ],
   "source": [
    "plt.figure()\n",
    "\n",
    "# for i, s_type in enumerate([\"csc\", \"csr\"]):\n",
    "#     plt.plot(Cs, time_run_connectivity[:, i], label=s_type)\n",
    "\n",
    "plt.plot(Cs, time_run_connectivity[:, 1], label=\"csr\")\n",
    "plt.plot(Cs, time_run_connectivity[:, 0], label=\"csc\")\n",
    "\n",
    "plt.axhline(time_dense, color=\"gold\", label=\"dense\")\n",
    "plt.legend()\n",
    "plt.xlabel(\"connectivité\")\n",
    "plt.ylabel(\"temps (s)\")\n",
    "plt.grid()\n",
    "plt.title(f\"{100} timesteps; {5_000} units\")\n",
    "plt.show()"
   ]
  },
  {
   "cell_type": "code",
   "execution_count": 80,
   "metadata": {},
   "outputs": [
    {
     "data": {
      "text/plain": [
       "array([0.        , 0.05263158, 0.10526316, 0.15789474, 0.21052632,\n",
       "       0.26315789, 0.31578947, 0.36842105, 0.42105263, 0.47368421,\n",
       "       0.52631579, 0.57894737, 0.63157895, 0.68421053, 0.73684211,\n",
       "       0.78947368, 0.84210526, 0.89473684, 0.94736842, 1.        ])"
      ]
     },
     "execution_count": 80,
     "metadata": {},
     "output_type": "execute_result"
    }
   ],
   "source": [
    "Cs"
   ]
  },
  {
   "cell_type": "code",
   "execution_count": 81,
   "metadata": {},
   "outputs": [
    {
     "name": "stderr",
     "output_type": "stream",
     "text": [
      "Running Reservoir-450: 100%|██████████| 100/100 [00:00<00:00, 1137.26it/s]\n"
     ]
    },
    {
     "name": "stdout",
     "output_type": "stream",
     "text": [
      "csc 0.0 0.09004521369934082\n"
     ]
    },
    {
     "name": "stderr",
     "output_type": "stream",
     "text": [
      "Running Reservoir-451: 100%|██████████| 100/100 [00:00<00:00, 1104.05it/s]\n"
     ]
    },
    {
     "name": "stdout",
     "output_type": "stream",
     "text": [
      "csr 0.0 0.0931084156036377\n"
     ]
    },
    {
     "name": "stderr",
     "output_type": "stream",
     "text": [
      "Running Reservoir-452: 100%|██████████| 100/100 [00:01<00:00, 98.79it/s]\n"
     ]
    },
    {
     "name": "stdout",
     "output_type": "stream",
     "text": [
      "csc 0.05263157894736842 1.0144352912902832\n"
     ]
    },
    {
     "name": "stderr",
     "output_type": "stream",
     "text": [
      "Running Reservoir-453: 100%|██████████| 100/100 [00:01<00:00, 92.54it/s]\n"
     ]
    },
    {
     "name": "stdout",
     "output_type": "stream",
     "text": [
      "csr 0.05263157894736842 1.082592487335205\n"
     ]
    },
    {
     "name": "stderr",
     "output_type": "stream",
     "text": [
      "Running Reservoir-454: 100%|██████████| 100/100 [00:01<00:00, 53.02it/s]\n"
     ]
    },
    {
     "name": "stdout",
     "output_type": "stream",
     "text": [
      "csc 0.10526315789473684 1.8876731395721436\n"
     ]
    },
    {
     "name": "stderr",
     "output_type": "stream",
     "text": [
      "Running Reservoir-455: 100%|██████████| 100/100 [00:02<00:00, 47.67it/s]\n"
     ]
    },
    {
     "name": "stdout",
     "output_type": "stream",
     "text": [
      "csr 0.10526315789473684 2.1001434326171875\n"
     ]
    },
    {
     "name": "stderr",
     "output_type": "stream",
     "text": [
      "Running Reservoir-456: 100%|██████████| 100/100 [00:02<00:00, 38.16it/s]\n"
     ]
    },
    {
     "name": "stdout",
     "output_type": "stream",
     "text": [
      "csc 0.15789473684210525 2.6227612495422363\n"
     ]
    },
    {
     "name": "stderr",
     "output_type": "stream",
     "text": [
      "Running Reservoir-457: 100%|██████████| 100/100 [00:03<00:00, 33.31it/s]\n"
     ]
    },
    {
     "name": "stdout",
     "output_type": "stream",
     "text": [
      "csr 0.15789473684210525 3.00433349609375\n"
     ]
    },
    {
     "name": "stderr",
     "output_type": "stream",
     "text": [
      "Running Reservoir-458: 100%|██████████| 100/100 [00:03<00:00, 29.53it/s]\n"
     ]
    },
    {
     "name": "stdout",
     "output_type": "stream",
     "text": [
      "csc 0.21052631578947367 3.3883326053619385\n"
     ]
    },
    {
     "name": "stderr",
     "output_type": "stream",
     "text": [
      "Running Reservoir-459: 100%|██████████| 100/100 [00:03<00:00, 25.26it/s]\n"
     ]
    },
    {
     "name": "stdout",
     "output_type": "stream",
     "text": [
      "csr 0.21052631578947367 3.9607527256011963\n"
     ]
    },
    {
     "name": "stderr",
     "output_type": "stream",
     "text": [
      "Running Reservoir-460: 100%|██████████| 100/100 [00:04<00:00, 24.40it/s]\n"
     ]
    },
    {
     "name": "stdout",
     "output_type": "stream",
     "text": [
      "csc 0.2631578947368421 4.10032320022583\n"
     ]
    },
    {
     "name": "stderr",
     "output_type": "stream",
     "text": [
      "Running Reservoir-461: 100%|██████████| 100/100 [00:04<00:00, 20.34it/s]\n"
     ]
    },
    {
     "name": "stdout",
     "output_type": "stream",
     "text": [
      "csr 0.2631578947368421 4.919238805770874\n"
     ]
    },
    {
     "name": "stderr",
     "output_type": "stream",
     "text": [
      "Running Reservoir-462: 100%|██████████| 100/100 [00:04<00:00, 20.71it/s]\n"
     ]
    },
    {
     "name": "stdout",
     "output_type": "stream",
     "text": [
      "csc 0.3157894736842105 4.831725358963013\n"
     ]
    },
    {
     "name": "stderr",
     "output_type": "stream",
     "text": [
      "Running Reservoir-463: 100%|██████████| 100/100 [00:05<00:00, 16.90it/s]\n"
     ]
    },
    {
     "name": "stdout",
     "output_type": "stream",
     "text": [
      "csr 0.3157894736842105 5.919601678848267\n"
     ]
    },
    {
     "name": "stderr",
     "output_type": "stream",
     "text": [
      "Running Reservoir-464: 100%|██████████| 100/100 [00:05<00:00, 18.14it/s]\n"
     ]
    },
    {
     "name": "stdout",
     "output_type": "stream",
     "text": [
      "csc 0.3684210526315789 5.515484094619751\n"
     ]
    },
    {
     "name": "stderr",
     "output_type": "stream",
     "text": [
      "Running Reservoir-465: 100%|██████████| 100/100 [00:06<00:00, 14.58it/s]\n"
     ]
    },
    {
     "name": "stdout",
     "output_type": "stream",
     "text": [
      "csr 0.3684210526315789 6.859013080596924\n"
     ]
    },
    {
     "name": "stderr",
     "output_type": "stream",
     "text": [
      "Running Reservoir-466: 100%|██████████| 100/100 [00:06<00:00, 16.20it/s]\n"
     ]
    },
    {
     "name": "stdout",
     "output_type": "stream",
     "text": [
      "csc 0.42105263157894735 6.175211191177368\n"
     ]
    },
    {
     "name": "stderr",
     "output_type": "stream",
     "text": [
      "Running Reservoir-467: 100%|██████████| 100/100 [00:07<00:00, 12.76it/s]\n"
     ]
    },
    {
     "name": "stdout",
     "output_type": "stream",
     "text": [
      "csr 0.42105263157894735 7.83911657333374\n"
     ]
    },
    {
     "name": "stderr",
     "output_type": "stream",
     "text": [
      "Running Reservoir-468: 100%|██████████| 100/100 [00:06<00:00, 14.76it/s]\n"
     ]
    },
    {
     "name": "stdout",
     "output_type": "stream",
     "text": [
      "csc 0.47368421052631576 6.776411533355713\n"
     ]
    },
    {
     "name": "stderr",
     "output_type": "stream",
     "text": [
      "Running Reservoir-469: 100%|██████████| 100/100 [00:08<00:00, 11.39it/s]\n"
     ]
    },
    {
     "name": "stdout",
     "output_type": "stream",
     "text": [
      "csr 0.47368421052631576 8.783846139907837\n"
     ]
    },
    {
     "name": "stderr",
     "output_type": "stream",
     "text": [
      "Running Reservoir-470: 100%|██████████| 100/100 [00:07<00:00, 13.60it/s]\n"
     ]
    },
    {
     "name": "stdout",
     "output_type": "stream",
     "text": [
      "csc 0.5263157894736842 7.357495069503784\n"
     ]
    },
    {
     "name": "stderr",
     "output_type": "stream",
     "text": [
      "Running Reservoir-471: 100%|██████████| 100/100 [00:09<00:00, 10.26it/s]\n"
     ]
    },
    {
     "name": "stdout",
     "output_type": "stream",
     "text": [
      "csr 0.5263157894736842 9.750266790390015\n"
     ]
    },
    {
     "name": "stderr",
     "output_type": "stream",
     "text": [
      "Running Reservoir-472: 100%|██████████| 100/100 [00:08<00:00, 12.40it/s]\n"
     ]
    },
    {
     "name": "stdout",
     "output_type": "stream",
     "text": [
      "csc 0.5789473684210527 8.064465522766113\n"
     ]
    },
    {
     "name": "stderr",
     "output_type": "stream",
     "text": [
      "Running Reservoir-473: 100%|██████████| 100/100 [00:10<00:00,  9.30it/s]\n"
     ]
    },
    {
     "name": "stdout",
     "output_type": "stream",
     "text": [
      "csr 0.5789473684210527 10.750977993011475\n"
     ]
    },
    {
     "name": "stderr",
     "output_type": "stream",
     "text": [
      "Running Reservoir-474: 100%|██████████| 100/100 [00:08<00:00, 11.61it/s]\n"
     ]
    },
    {
     "name": "stdout",
     "output_type": "stream",
     "text": [
      "csc 0.631578947368421 8.61476731300354\n"
     ]
    },
    {
     "name": "stderr",
     "output_type": "stream",
     "text": [
      "Running Reservoir-475: 100%|██████████| 100/100 [00:11<00:00,  8.55it/s]\n"
     ]
    },
    {
     "name": "stdout",
     "output_type": "stream",
     "text": [
      "csr 0.631578947368421 11.701122760772705\n"
     ]
    },
    {
     "name": "stderr",
     "output_type": "stream",
     "text": [
      "Running Reservoir-476: 100%|██████████| 100/100 [00:09<00:00, 10.92it/s]\n"
     ]
    },
    {
     "name": "stdout",
     "output_type": "stream",
     "text": [
      "csc 0.6842105263157894 9.162547826766968\n"
     ]
    },
    {
     "name": "stderr",
     "output_type": "stream",
     "text": [
      "Running Reservoir-477: 100%|██████████| 100/100 [00:12<00:00,  7.90it/s]\n"
     ]
    },
    {
     "name": "stdout",
     "output_type": "stream",
     "text": [
      "csr 0.6842105263157894 12.66156792640686\n"
     ]
    },
    {
     "name": "stderr",
     "output_type": "stream",
     "text": [
      "Running Reservoir-478: 100%|██████████| 100/100 [00:09<00:00, 10.28it/s]\n"
     ]
    },
    {
     "name": "stdout",
     "output_type": "stream",
     "text": [
      "csc 0.7368421052631579 9.727346181869507\n"
     ]
    },
    {
     "name": "stderr",
     "output_type": "stream",
     "text": [
      "Running Reservoir-479: 100%|██████████| 100/100 [00:13<00:00,  7.35it/s]\n"
     ]
    },
    {
     "name": "stdout",
     "output_type": "stream",
     "text": [
      "csr 0.7368421052631579 13.609625339508057\n"
     ]
    },
    {
     "name": "stderr",
     "output_type": "stream",
     "text": [
      "Running Reservoir-480: 100%|██████████| 100/100 [00:10<00:00,  9.59it/s]\n"
     ]
    },
    {
     "name": "stdout",
     "output_type": "stream",
     "text": [
      "csc 0.7894736842105263 10.434915781021118\n"
     ]
    },
    {
     "name": "stderr",
     "output_type": "stream",
     "text": [
      "Running Reservoir-481: 100%|██████████| 100/100 [00:14<00:00,  6.87it/s]\n"
     ]
    },
    {
     "name": "stdout",
     "output_type": "stream",
     "text": [
      "csr 0.7894736842105263 14.554413318634033\n"
     ]
    },
    {
     "name": "stderr",
     "output_type": "stream",
     "text": [
      "Running Reservoir-482: 100%|██████████| 100/100 [00:10<00:00,  9.10it/s]\n"
     ]
    },
    {
     "name": "stdout",
     "output_type": "stream",
     "text": [
      "csc 0.8421052631578947 10.99133586883545\n"
     ]
    },
    {
     "name": "stderr",
     "output_type": "stream",
     "text": [
      "Running Reservoir-483: 100%|██████████| 100/100 [00:15<00:00,  6.41it/s]\n"
     ]
    },
    {
     "name": "stdout",
     "output_type": "stream",
     "text": [
      "csr 0.8421052631578947 15.606390714645386\n"
     ]
    },
    {
     "name": "stderr",
     "output_type": "stream",
     "text": [
      "Running Reservoir-484: 100%|██████████| 100/100 [00:11<00:00,  8.48it/s]\n"
     ]
    },
    {
     "name": "stdout",
     "output_type": "stream",
     "text": [
      "csc 0.894736842105263 11.792452573776245\n"
     ]
    },
    {
     "name": "stderr",
     "output_type": "stream",
     "text": [
      "Running Reservoir-485: 100%|██████████| 100/100 [00:16<00:00,  6.04it/s]\n"
     ]
    },
    {
     "name": "stdout",
     "output_type": "stream",
     "text": [
      "csr 0.894736842105263 16.564358472824097\n"
     ]
    },
    {
     "name": "stderr",
     "output_type": "stream",
     "text": [
      "Running Reservoir-486: 100%|██████████| 100/100 [00:12<00:00,  8.20it/s]\n"
     ]
    },
    {
     "name": "stdout",
     "output_type": "stream",
     "text": [
      "csc 0.9473684210526315 12.202690362930298\n"
     ]
    },
    {
     "name": "stderr",
     "output_type": "stream",
     "text": [
      "Running Reservoir-487: 100%|██████████| 100/100 [00:17<00:00,  5.72it/s]\n"
     ]
    },
    {
     "name": "stdout",
     "output_type": "stream",
     "text": [
      "csr 0.9473684210526315 17.47203516960144\n"
     ]
    },
    {
     "name": "stderr",
     "output_type": "stream",
     "text": [
      "Running Reservoir-488: 100%|██████████| 100/100 [00:03<00:00, 31.27it/s]\n"
     ]
    },
    {
     "name": "stdout",
     "output_type": "stream",
     "text": [
      "csc 1.0 3.2005653381347656\n"
     ]
    },
    {
     "name": "stderr",
     "output_type": "stream",
     "text": [
      "Running Reservoir-489: 100%|██████████| 100/100 [00:03<00:00, 31.78it/s]"
     ]
    },
    {
     "name": "stdout",
     "output_type": "stream",
     "text": [
      "csr 1.0 3.1509554386138916\n"
     ]
    },
    {
     "name": "stderr",
     "output_type": "stream",
     "text": [
      "\n"
     ]
    }
   ],
   "source": [
    "TRIALS = 20\n",
    "UNITS = 10_000\n",
    "TIMESTEPS = 100\n",
    "Cs = np.linspace(0, 1, TRIALS)\n",
    "\n",
    "time_run_connectivity2 = np.zeros((TRIALS, 2))\n",
    "\n",
    "for i, C in enumerate(Cs):\n",
    "    for j, sparse_type in enumerate([\"csc\", \"csr\"]):\n",
    "        time_run_connectivity2[i, j] = time_run(\n",
    "            units=UNITS,\n",
    "            connectivity=C,\n",
    "            timesteps=TIMESTEPS,\n",
    "            sparsity_type=sparse_type,\n",
    "        )\n",
    "        print(sparse_type, C, time_run_connectivity2[i,j])"
   ]
  },
  {
   "cell_type": "code",
   "execution_count": 82,
   "metadata": {},
   "outputs": [
    {
     "name": "stderr",
     "output_type": "stream",
     "text": [
      "Running Reservoir-490: 100%|██████████| 100/100 [00:03<00:00, 29.96it/s]\n"
     ]
    }
   ],
   "source": [
    "time_dense_ = time_run(\n",
    "    units=UNITS,\n",
    "    connectivity=1.,\n",
    "    timesteps=TIMESTEPS,\n",
    "    sparsity_type=\"dense\",\n",
    ")"
   ]
  },
  {
   "cell_type": "code",
   "execution_count": 254,
   "metadata": {},
   "outputs": [
    {
     "data": {
      "image/png": "[encoded data removed]",
      "text/plain": [
       "<Figure size 480x360 with 1 Axes>"
      ]
     },
     "metadata": {},
     "output_type": "display_data"
    }
   ],
   "source": [
    "plt.figure()\n",
    "\n",
    "# for i, s_type in enumerate([\"csc\", \"csr\"]):\n",
    "#     plt.plot(Cs, time_run_connectivity2[:, i], label=s_type)\n",
    "\n",
    "\n",
    "plt.plot(Cs, time_run_connectivity2[:, 1], label=\"csr\")\n",
    "plt.plot(Cs, time_run_connectivity2[:, 0], label=\"csc\")\n",
    "\n",
    "plt.axhline(time_dense_, color=\"gold\", label=\"dense\")\n",
    "plt.grid()\n",
    "plt.legend()\n",
    "plt.xlabel(\"connectivité\")\n",
    "plt.ylabel(\"temps (s)\")\n",
    "plt.title(f\"{100} timesteps; {10_000} units\")\n",
    "plt.show()"
   ]
  },
  {
   "cell_type": "code",
   "execution_count": 93,
   "metadata": {},
   "outputs": [
    {
     "name": "stderr",
     "output_type": "stream",
     "text": [
      "Running Reservoir-532: 100%|██████████| 1000/1000 [00:00<00:00, 5601.65it/s]\n"
     ]
    },
    {
     "name": "stdout",
     "output_type": "stream",
     "text": [
      "csc 0.0 0.18056225776672363\n"
     ]
    },
    {
     "name": "stderr",
     "output_type": "stream",
     "text": [
      "Running Reservoir-533: 100%|██████████| 1000/1000 [00:00<00:00, 6858.14it/s]\n"
     ]
    },
    {
     "name": "stdout",
     "output_type": "stream",
     "text": [
      "csr 0.0 0.1479473114013672\n"
     ]
    },
    {
     "name": "stderr",
     "output_type": "stream",
     "text": [
      "Running Reservoir-534: 100%|██████████| 1000/1000 [00:00<00:00, 6180.05it/s]\n"
     ]
    },
    {
     "name": "stdout",
     "output_type": "stream",
     "text": [
      "csc 0.05263157894736842 0.16426753997802734\n"
     ]
    },
    {
     "name": "stderr",
     "output_type": "stream",
     "text": [
      "Running Reservoir-535: 100%|██████████| 1000/1000 [00:00<00:00, 6145.38it/s]\n"
     ]
    },
    {
     "name": "stdout",
     "output_type": "stream",
     "text": [
      "csr 0.05263157894736842 0.16513371467590332\n"
     ]
    },
    {
     "name": "stderr",
     "output_type": "stream",
     "text": [
      "Running Reservoir-536: 100%|██████████| 1000/1000 [00:00<00:00, 5497.59it/s]\n"
     ]
    },
    {
     "name": "stdout",
     "output_type": "stream",
     "text": [
      "csc 0.10526315789473684 0.1846630573272705\n"
     ]
    },
    {
     "name": "stderr",
     "output_type": "stream",
     "text": [
      "Running Reservoir-537: 100%|██████████| 1000/1000 [00:00<00:00, 5553.21it/s]\n"
     ]
    },
    {
     "name": "stdout",
     "output_type": "stream",
     "text": [
      "csr 0.10526315789473684 0.18223905563354492\n"
     ]
    },
    {
     "name": "stderr",
     "output_type": "stream",
     "text": [
      "Running Reservoir-538: 100%|██████████| 1000/1000 [00:00<00:00, 4277.71it/s]\n"
     ]
    },
    {
     "name": "stdout",
     "output_type": "stream",
     "text": [
      "csc 0.15789473684210525 0.2360525131225586\n"
     ]
    },
    {
     "name": "stderr",
     "output_type": "stream",
     "text": [
      "Running Reservoir-539: 100%|██████████| 1000/1000 [00:00<00:00, 4654.29it/s]\n"
     ]
    },
    {
     "name": "stdout",
     "output_type": "stream",
     "text": [
      "csr 0.15789473684210525 0.21708083152770996\n"
     ]
    },
    {
     "name": "stderr",
     "output_type": "stream",
     "text": [
      "Running Reservoir-540: 100%|██████████| 1000/1000 [00:00<00:00, 4552.85it/s]\n"
     ]
    },
    {
     "name": "stdout",
     "output_type": "stream",
     "text": [
      "csc 0.21052631578947367 0.2222602367401123\n"
     ]
    },
    {
     "name": "stderr",
     "output_type": "stream",
     "text": [
      "Running Reservoir-541: 100%|██████████| 1000/1000 [00:00<00:00, 4193.06it/s]\n"
     ]
    },
    {
     "name": "stdout",
     "output_type": "stream",
     "text": [
      "csr 0.21052631578947367 0.2409830093383789\n"
     ]
    },
    {
     "name": "stderr",
     "output_type": "stream",
     "text": [
      "Running Reservoir-542: 100%|██████████| 1000/1000 [00:00<00:00, 4433.12it/s]\n"
     ]
    },
    {
     "name": "stdout",
     "output_type": "stream",
     "text": [
      "csc 0.2631578947368421 0.22786784172058105\n"
     ]
    },
    {
     "name": "stderr",
     "output_type": "stream",
     "text": [
      "Running Reservoir-543: 100%|██████████| 1000/1000 [00:00<00:00, 3702.43it/s]\n"
     ]
    },
    {
     "name": "stdout",
     "output_type": "stream",
     "text": [
      "csr 0.2631578947368421 0.2724928855895996\n"
     ]
    },
    {
     "name": "stderr",
     "output_type": "stream",
     "text": [
      "Running Reservoir-544: 100%|██████████| 1000/1000 [00:00<00:00, 4085.54it/s]\n"
     ]
    },
    {
     "name": "stdout",
     "output_type": "stream",
     "text": [
      "csc 0.3157894736842105 0.24703001976013184\n"
     ]
    },
    {
     "name": "stderr",
     "output_type": "stream",
     "text": [
      "Running Reservoir-545: 100%|██████████| 1000/1000 [00:00<00:00, 3562.86it/s]\n"
     ]
    },
    {
     "name": "stdout",
     "output_type": "stream",
     "text": [
      "csr 0.3157894736842105 0.2828831672668457\n"
     ]
    },
    {
     "name": "stderr",
     "output_type": "stream",
     "text": [
      "Running Reservoir-546: 100%|██████████| 1000/1000 [00:00<00:00, 3875.09it/s]\n"
     ]
    },
    {
     "name": "stdout",
     "output_type": "stream",
     "text": [
      "csc 0.3684210526315789 0.26040101051330566\n"
     ]
    },
    {
     "name": "stderr",
     "output_type": "stream",
     "text": [
      "Running Reservoir-547: 100%|██████████| 1000/1000 [00:00<00:00, 3126.20it/s]\n"
     ]
    },
    {
     "name": "stdout",
     "output_type": "stream",
     "text": [
      "csr 0.3684210526315789 0.32270073890686035\n"
     ]
    },
    {
     "name": "stderr",
     "output_type": "stream",
     "text": [
      "Running Reservoir-548: 100%|██████████| 1000/1000 [00:00<00:00, 3715.17it/s]\n"
     ]
    },
    {
     "name": "stdout",
     "output_type": "stream",
     "text": [
      "csc 0.42105263157894735 0.27141833305358887\n"
     ]
    },
    {
     "name": "stderr",
     "output_type": "stream",
     "text": [
      "Running Reservoir-549: 100%|██████████| 1000/1000 [00:00<00:00, 3026.18it/s]\n"
     ]
    },
    {
     "name": "stdout",
     "output_type": "stream",
     "text": [
      "csr 0.42105263157894735 0.3327963352203369\n"
     ]
    },
    {
     "name": "stderr",
     "output_type": "stream",
     "text": [
      "Running Reservoir-550: 100%|██████████| 1000/1000 [00:00<00:00, 3554.22it/s]\n"
     ]
    },
    {
     "name": "stdout",
     "output_type": "stream",
     "text": [
      "csc 0.47368421052631576 0.28405308723449707\n"
     ]
    },
    {
     "name": "stderr",
     "output_type": "stream",
     "text": [
      "Running Reservoir-551: 100%|██████████| 1000/1000 [00:00<00:00, 2871.31it/s]\n"
     ]
    },
    {
     "name": "stdout",
     "output_type": "stream",
     "text": [
      "csr 0.47368421052631576 0.3508777618408203\n"
     ]
    },
    {
     "name": "stderr",
     "output_type": "stream",
     "text": [
      "Running Reservoir-552: 100%|██████████| 1000/1000 [00:00<00:00, 3143.85it/s]\n"
     ]
    },
    {
     "name": "stdout",
     "output_type": "stream",
     "text": [
      "csc 0.5263157894736842 0.32034826278686523\n"
     ]
    },
    {
     "name": "stderr",
     "output_type": "stream",
     "text": [
      "Running Reservoir-553: 100%|██████████| 1000/1000 [00:00<00:00, 2666.36it/s]\n"
     ]
    },
    {
     "name": "stdout",
     "output_type": "stream",
     "text": [
      "csr 0.5263157894736842 0.3774144649505615\n"
     ]
    },
    {
     "name": "stderr",
     "output_type": "stream",
     "text": [
      "Running Reservoir-554: 100%|██████████| 1000/1000 [00:00<00:00, 3313.16it/s]\n"
     ]
    },
    {
     "name": "stdout",
     "output_type": "stream",
     "text": [
      "csc 0.5789473684210527 0.30417490005493164\n"
     ]
    },
    {
     "name": "stderr",
     "output_type": "stream",
     "text": [
      "Running Reservoir-555: 100%|██████████| 1000/1000 [00:00<00:00, 2539.88it/s]\n"
     ]
    },
    {
     "name": "stdout",
     "output_type": "stream",
     "text": [
      "csr 0.5789473684210527 0.3959488868713379\n"
     ]
    },
    {
     "name": "stderr",
     "output_type": "stream",
     "text": [
      "Running Reservoir-556: 100%|██████████| 1000/1000 [00:00<00:00, 3011.12it/s]\n"
     ]
    },
    {
     "name": "stdout",
     "output_type": "stream",
     "text": [
      "csc 0.631578947368421 0.33447933197021484\n"
     ]
    },
    {
     "name": "stderr",
     "output_type": "stream",
     "text": [
      "Running Reservoir-557: 100%|██████████| 1000/1000 [00:00<00:00, 2285.68it/s]\n"
     ]
    },
    {
     "name": "stdout",
     "output_type": "stream",
     "text": [
      "csr 0.631578947368421 0.4404118061065674\n"
     ]
    },
    {
     "name": "stderr",
     "output_type": "stream",
     "text": [
      "Running Reservoir-558: 100%|██████████| 1000/1000 [00:00<00:00, 2880.46it/s]\n"
     ]
    },
    {
     "name": "stdout",
     "output_type": "stream",
     "text": [
      "csc 0.6842105263157894 0.34926891326904297\n"
     ]
    },
    {
     "name": "stderr",
     "output_type": "stream",
     "text": [
      "Running Reservoir-559: 100%|██████████| 1000/1000 [00:00<00:00, 2208.82it/s]\n"
     ]
    },
    {
     "name": "stdout",
     "output_type": "stream",
     "text": [
      "csr 0.6842105263157894 0.45493602752685547\n"
     ]
    },
    {
     "name": "stderr",
     "output_type": "stream",
     "text": [
      "Running Reservoir-560: 100%|██████████| 1000/1000 [00:00<00:00, 2924.02it/s]\n"
     ]
    },
    {
     "name": "stdout",
     "output_type": "stream",
     "text": [
      "csc 0.7368421052631579 0.34439897537231445\n"
     ]
    },
    {
     "name": "stderr",
     "output_type": "stream",
     "text": [
      "Running Reservoir-561: 100%|██████████| 1000/1000 [00:00<00:00, 2178.24it/s]\n"
     ]
    },
    {
     "name": "stdout",
     "output_type": "stream",
     "text": [
      "csr 0.7368421052631579 0.461409330368042\n"
     ]
    },
    {
     "name": "stderr",
     "output_type": "stream",
     "text": [
      "Running Reservoir-562: 100%|██████████| 1000/1000 [00:00<00:00, 2682.95it/s]\n"
     ]
    },
    {
     "name": "stdout",
     "output_type": "stream",
     "text": [
      "csc 0.7894736842105263 0.3752737045288086\n"
     ]
    },
    {
     "name": "stderr",
     "output_type": "stream",
     "text": [
      "Running Reservoir-563: 100%|██████████| 1000/1000 [00:00<00:00, 2099.49it/s]\n"
     ]
    },
    {
     "name": "stdout",
     "output_type": "stream",
     "text": [
      "csr 0.7894736842105263 0.47854113578796387\n"
     ]
    },
    {
     "name": "stderr",
     "output_type": "stream",
     "text": [
      "Running Reservoir-564: 100%|██████████| 1000/1000 [00:00<00:00, 2695.80it/s]\n"
     ]
    },
    {
     "name": "stdout",
     "output_type": "stream",
     "text": [
      "csc 0.8421052631578947 0.37322449684143066\n"
     ]
    },
    {
     "name": "stderr",
     "output_type": "stream",
     "text": [
      "Running Reservoir-565: 100%|██████████| 1000/1000 [00:00<00:00, 1951.80it/s]\n"
     ]
    },
    {
     "name": "stdout",
     "output_type": "stream",
     "text": [
      "csr 0.8421052631578947 0.5150163173675537\n"
     ]
    },
    {
     "name": "stderr",
     "output_type": "stream",
     "text": [
      "Running Reservoir-566: 100%|██████████| 1000/1000 [00:00<00:00, 2404.27it/s]\n"
     ]
    },
    {
     "name": "stdout",
     "output_type": "stream",
     "text": [
      "csc 0.894736842105263 0.41813087463378906\n"
     ]
    },
    {
     "name": "stderr",
     "output_type": "stream",
     "text": [
      "Running Reservoir-567: 100%|██████████| 1000/1000 [00:00<00:00, 1834.75it/s]\n"
     ]
    },
    {
     "name": "stdout",
     "output_type": "stream",
     "text": [
      "csr 0.894736842105263 0.5477359294891357\n"
     ]
    },
    {
     "name": "stderr",
     "output_type": "stream",
     "text": [
      "Running Reservoir-568: 100%|██████████| 1000/1000 [00:00<00:00, 2400.42it/s]\n"
     ]
    },
    {
     "name": "stdout",
     "output_type": "stream",
     "text": [
      "csc 0.9473684210526315 0.4192230701446533\n"
     ]
    },
    {
     "name": "stderr",
     "output_type": "stream",
     "text": [
      "Running Reservoir-569: 100%|██████████| 1000/1000 [00:00<00:00, 1841.62it/s]\n"
     ]
    },
    {
     "name": "stdout",
     "output_type": "stream",
     "text": [
      "csr 0.9473684210526315 0.5454134941101074\n"
     ]
    },
    {
     "name": "stderr",
     "output_type": "stream",
     "text": [
      "Running Reservoir-570: 100%|██████████| 1000/1000 [00:00<00:00, 2114.31it/s]\n"
     ]
    },
    {
     "name": "stdout",
     "output_type": "stream",
     "text": [
      "csc 1.0 0.475445032119751\n"
     ]
    },
    {
     "name": "stderr",
     "output_type": "stream",
     "text": [
      "Running Reservoir-571: 100%|██████████| 1000/1000 [00:00<00:00, 2436.01it/s]\n"
     ]
    },
    {
     "name": "stdout",
     "output_type": "stream",
     "text": [
      "csr 1.0 0.4141194820404053\n"
     ]
    },
    {
     "name": "stderr",
     "output_type": "stream",
     "text": [
      "Running Reservoir-572: 100%|██████████| 1000/1000 [00:00<00:00, 2638.33it/s]\n"
     ]
    }
   ],
   "source": [
    "TRIALS = 20\n",
    "UNITS = 500\n",
    "TIMESTEPS = 1000\n",
    "Cs = np.linspace(0, 1, TRIALS)\n",
    "\n",
    "time_run_connectivity3 = np.zeros((TRIALS, 2))\n",
    "\n",
    "for i, C in enumerate(Cs):\n",
    "    for j, sparse_type in enumerate([\"csc\", \"csr\"]):\n",
    "        time_run_connectivity3[i, j] = time_run(\n",
    "            units=UNITS,\n",
    "            connectivity=C,\n",
    "            timesteps=TIMESTEPS,\n",
    "            sparsity_type=sparse_type,\n",
    "        )\n",
    "        print(sparse_type, C, time_run_connectivity3[i,j])\n",
    "\n",
    "time_dense3 = time_run(\n",
    "    units=UNITS,\n",
    "    connectivity=1.,\n",
    "    timesteps=TIMESTEPS,\n",
    "    sparsity_type=\"dense\",\n",
    ")"
   ]
  },
  {
   "cell_type": "code",
   "execution_count": 257,
   "metadata": {},
   "outputs": [
    {
     "data": {
      "image/png": "[encoded data removed]",
      "text/plain": [
       "<Figure size 480x360 with 1 Axes>"
      ]
     },
     "metadata": {},
     "output_type": "display_data"
    }
   ],
   "source": [
    "plt.figure()\n",
    "\n",
    "# for i, s_type in enumerate([\"csc\", \"csr\"]):\n",
    "#     plt.plot(Cs, time_run_connectivity3[:, i], label=s_type)\n",
    "\n",
    "plt.plot(Cs, time_run_connectivity3[:, 1], label=\"csr\")\n",
    "plt.plot(Cs, time_run_connectivity3[:, 0], label=\"csc\")\n",
    "\n",
    "plt.axhline(time_dense3, color=\"gold\", label=\"dense\")\n",
    "plt.legend()\n",
    "plt.grid()\n",
    "plt.xlabel(\"connectivité\")\n",
    "plt.ylabel(\"temps (s)\")\n",
    "plt.title(f\"{1000} timesteps; {500} units\")\n",
    "plt.show()"
   ]
  },
  {
   "cell_type": "markdown",
   "metadata": {},
   "source": [
    "### Connectivité à temps équivalent\n",
    "\n",
    "On s'intéresse à la sparsité `csc` qui semble systématiquement plus performante que la `csr`.\n",
    "\n",
    "L'idée est de trouver la connectivité d'une matrice sparse à partir de laquelle il est plus intéressant de choisir une matrice dense.\n",
    "\n",
    "Pour ça, on fait une recherche par dichotomie."
   ]
  },
  {
   "cell_type": "code",
   "execution_count": 180,
   "metadata": {},
   "outputs": [
    {
     "data": {
      "text/plain": [
       "0.13842427730560303"
      ]
     },
     "execution_count": 180,
     "metadata": {},
     "output_type": "execute_result"
    }
   ],
   "source": [
    "np.median([time_run(100, connectivity=1., sparsity_type=\"dense\", timesteps=500,) for _ in range(10)])"
   ]
  },
  {
   "cell_type": "code",
   "execution_count": 207,
   "metadata": {},
   "outputs": [],
   "source": [
    "def dichotomy(units, timesteps=500):\n",
    "    dense_instances = [time_run(units, connectivity=1., sparsity_type=\"dense\", timesteps=timesteps) for _ in range(20)]\n",
    "    print(units, timesteps, np.median(dense_instances), np.var(dense_instances))\n",
    "    dense_time = np.median(dense_instances)\n",
    "\n",
    "    # csc_dense_time = time_run(units, connectivity=.99, sparsity_type=\"csc\", timesteps=timesteps)\n",
    "    # if csc_dense_time > dense_time:\n",
    "    #     print(units, 1., csc_dense_time, dense_time)\n",
    "    #     return 1.\n",
    "    \n",
    "    min_ = 0.\n",
    "    max_ = 1.\n",
    "    current_time = np.Infinity\n",
    "    iters = 0\n",
    "\n",
    "    while np.abs(dense_time - current_time) > dense_time/50: # 10% de précision\n",
    "        connectivity = 0.5 * max_ + 0.5 * min_ # \n",
    "        current_time = time_run(units, connectivity=connectivity, sparsity_type=\"csc\", timesteps=timesteps)\n",
    "\n",
    "        if current_time > dense_time:\n",
    "            max_ = connectivity\n",
    "        else:\n",
    "            min_ = connectivity\n",
    "        iters += 1\n",
    "    \n",
    "    print(units, connectivity, current_time)\n",
    "    return connectivity\n",
    "\n"
   ]
  },
  {
   "cell_type": "code",
   "execution_count": 200,
   "metadata": {},
   "outputs": [
    {
     "data": {
      "text/plain": [
       "[0.3366713523864746,\n",
       " 0.17390108108520508,\n",
       " 0.29562854766845703,\n",
       " 0.22339463233947754,\n",
       " 0.409806489944458,\n",
       " 0.23465442657470703,\n",
       " 0.23993778228759766,\n",
       " 0.4596705436706543,\n",
       " 0.22728729248046875,\n",
       " 0.19460034370422363]"
      ]
     },
     "execution_count": 200,
     "metadata": {},
     "output_type": "execute_result"
    }
   ],
   "source": [
    "# variabilité du temps avec matrice dense\n",
    "[time_run(1000, connectivity=.01, sparsity_type=\"dense\", timesteps=500) for _ in range(10)]"
   ]
  },
  {
   "cell_type": "code",
   "execution_count": 208,
   "metadata": {},
   "outputs": [
    {
     "name": "stdout",
     "output_type": "stream",
     "text": [
      "316 3164 0.8479450941085815 0.023334840822190586\n",
      "316 1.0 0.857865571975708\n",
      "527 1897 0.5202991962432861 0.004513976342839641\n",
      "527 0.4375 0.5222139358520508\n",
      "879 1137 0.4082808494567871 0.002215937723391761\n",
      "879 0.234375 0.40743088722229004\n",
      "1467 681 0.5726794004440308 0.01903448293396238\n",
      "1467 0.25 0.5622739791870117\n",
      "2448 408 1.0329759120941162 0.019504263903926358\n",
      "2448 0.28125 1.021470069885254\n",
      "4084 244 1.6626325845718384 0.014658538401141069\n",
      "4084 0.25 1.6465532779693604\n",
      "6812 146 2.2370362281799316 0.0019540996544689902\n",
      "6812 0.203125 2.1999101638793945\n",
      "11364 87 3.4988508224487305 0.016709527591986413\n",
      "11364 0.1953125 3.4896910190582275\n",
      "18957 52 5.667017102241516 0.0031993797485591812\n",
      "18957 0.17578125 5.654384613037109\n",
      "31622 31 9.222190856933594 0.0011600375005598094\n",
      "31622 0.1328125 9.384227752685547\n"
     ]
    }
   ],
   "source": [
    "Ns = np.logspace(2.5, 4.5, 10).astype(int)\n",
    "\n",
    "connectivity = [dichotomy(N, timesteps=int(1e6/N)) for N in Ns]"
   ]
  },
  {
   "cell_type": "code",
   "execution_count": 214,
   "metadata": {},
   "outputs": [
    {
     "data": {
      "image/png": "[encoded data removed]",
      "text/plain": [
       "<Figure size 480x360 with 1 Axes>"
      ]
     },
     "metadata": {},
     "output_type": "display_data"
    }
   ],
   "source": [
    "plt.figure()\n",
    "\n",
    "plt.plot(Ns, connectivity, '.-')\n",
    "plt.xscale(\"log\")\n",
    "plt.xlabel(\"N\")\n",
    "plt.ylabel(\"Connectivité où t(dense)=t(sparse)\")\n",
    "plt.xticks(Ns, Ns)\n",
    "plt.grid()\n",
    "plt.ylim(0, 1)\n",
    "\n",
    "plt.show()"
   ]
  }
 ],
 "metadata": {
  "kernelspec": {
   "display_name": "py311",
   "language": "python",
   "name": "python3"
  },
  "language_info": {
   "codemirror_mode": {
    "name": "ipython",
    "version": 3
   },
   "file_extension": ".py",
   "mimetype": "text/x-python",
   "name": "python",
   "nbconvert_exporter": "python",
   "pygments_lexer": "ipython3",
   "version": "3.11.5"
  }
 },
 "nbformat": 4,
 "nbformat_minor": 2
}
